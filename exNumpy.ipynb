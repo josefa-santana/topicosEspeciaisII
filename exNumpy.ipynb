{
  "nbformat": 4,
  "nbformat_minor": 0,
  "metadata": {
    "colab": {
      "name": "exNumpy.ipynb",
      "provenance": [],
      "authorship_tag": "ABX9TyOYQudwP2YDtkm9zpff319g",
      "include_colab_link": true
    },
    "kernelspec": {
      "name": "python3",
      "display_name": "Python 3"
    },
    "language_info": {
      "name": "python"
    }
  },
  "cells": [
    {
      "cell_type": "markdown",
      "metadata": {
        "id": "view-in-github",
        "colab_type": "text"
      },
      "source": [
        "<a href=\"https://colab.research.google.com/github/josefa-santana/topicosEspeciaisII/blob/main/exNumpy.ipynb\" target=\"_parent\"><img src=\"https://colab.research.google.com/assets/colab-badge.svg\" alt=\"Open In Colab\"/></a>"
      ]
    },
    {
      "cell_type": "markdown",
      "source": [
        "### **Josefa Santana - GU3011976**\n"
      ],
      "metadata": {
        "id": "YtmoXnGvRJe3"
      }
    },
    {
      "cell_type": "markdown",
      "source": [
        "#### EX - 1"
      ],
      "metadata": {
        "id": "_k0AZw3BMZl9"
      }
    },
    {
      "cell_type": "code",
      "execution_count": 2,
      "metadata": {
        "id": "Owv2kEj3FdDS"
      },
      "outputs": [],
      "source": [
        "import numpy as np"
      ]
    },
    {
      "cell_type": "markdown",
      "source": [
        "#### EX - 2"
      ],
      "metadata": {
        "id": "-grIDQCNMkle"
      }
    },
    {
      "cell_type": "code",
      "source": [
        "np.ones((10))"
      ],
      "metadata": {
        "colab": {
          "base_uri": "https://localhost:8080/"
        },
        "id": "QA9hSPulGKt3",
        "outputId": "3f7b1573-daf7-4f4a-ad3f-ddd433eefe11"
      },
      "execution_count": null,
      "outputs": [
        {
          "output_type": "execute_result",
          "data": {
            "text/plain": [
              "array([1., 1., 1., 1., 1., 1., 1., 1., 1., 1.])"
            ]
          },
          "metadata": {},
          "execution_count": 10
        }
      ]
    },
    {
      "cell_type": "markdown",
      "source": [
        "#### EX - 3"
      ],
      "metadata": {
        "id": "lADzhS33MrkM"
      }
    },
    {
      "cell_type": "code",
      "source": [
        "np.zeros((10))"
      ],
      "metadata": {
        "colab": {
          "base_uri": "https://localhost:8080/"
        },
        "id": "cgpqYORSIq4E",
        "outputId": "34caf773-f5d8-4ee5-d11d-32efab1cfbf4"
      },
      "execution_count": null,
      "outputs": [
        {
          "output_type": "execute_result",
          "data": {
            "text/plain": [
              "array([0., 0., 0., 0., 0., 0., 0., 0., 0., 0.])"
            ]
          },
          "metadata": {},
          "execution_count": 11
        }
      ]
    },
    {
      "cell_type": "markdown",
      "source": [
        "#### EX - 4"
      ],
      "metadata": {
        "id": "p-96j1qPMvH5"
      }
    },
    {
      "cell_type": "code",
      "source": [
        "np.full(10, 5)"
      ],
      "metadata": {
        "colab": {
          "base_uri": "https://localhost:8080/"
        },
        "id": "CLSrkRqHJAXq",
        "outputId": "c5c300a8-7c05-457c-a49b-49b322b4b501"
      },
      "execution_count": null,
      "outputs": [
        {
          "output_type": "execute_result",
          "data": {
            "text/plain": [
              "array([5, 5, 5, 5, 5, 5, 5, 5, 5, 5])"
            ]
          },
          "metadata": {},
          "execution_count": 12
        }
      ]
    },
    {
      "cell_type": "markdown",
      "source": [
        "#### EX - 5"
      ],
      "metadata": {
        "id": "dapUxdpIMyW2"
      }
    },
    {
      "cell_type": "code",
      "source": [
        "np.arange(10, 51)"
      ],
      "metadata": {
        "colab": {
          "base_uri": "https://localhost:8080/"
        },
        "id": "OA1LaRzWLMwx",
        "outputId": "5dd6966b-55ef-4293-9952-4c271342ebb6"
      },
      "execution_count": null,
      "outputs": [
        {
          "output_type": "execute_result",
          "data": {
            "text/plain": [
              "array([10, 11, 12, 13, 14, 15, 16, 17, 18, 19, 20, 21, 22, 23, 24, 25, 26,\n",
              "       27, 28, 29, 30, 31, 32, 33, 34, 35, 36, 37, 38, 39, 40, 41, 42, 43,\n",
              "       44, 45, 46, 47, 48, 49, 50])"
            ]
          },
          "metadata": {},
          "execution_count": 14
        }
      ]
    },
    {
      "cell_type": "markdown",
      "source": [
        "#### EX - 6"
      ],
      "metadata": {
        "id": "UKYn4ouzM0NH"
      }
    },
    {
      "cell_type": "code",
      "source": [
        "np.arange(10, 52, +2)"
      ],
      "metadata": {
        "colab": {
          "base_uri": "https://localhost:8080/"
        },
        "id": "vVDW7wmdLhHn",
        "outputId": "d3b3fa3b-ea8b-4603-f6fc-53fe580312ba"
      },
      "execution_count": null,
      "outputs": [
        {
          "output_type": "execute_result",
          "data": {
            "text/plain": [
              "array([10, 12, 14, 16, 18, 20, 22, 24, 26, 28, 30, 32, 34, 36, 38, 40, 42,\n",
              "       44, 46, 48, 50])"
            ]
          },
          "metadata": {},
          "execution_count": 19
        }
      ]
    },
    {
      "cell_type": "markdown",
      "source": [
        "#### EX - 7"
      ],
      "metadata": {
        "id": "01NjUlkMNDgX"
      }
    },
    {
      "cell_type": "code",
      "source": [
        "np.arange(9).reshape(3,3)"
      ],
      "metadata": {
        "colab": {
          "base_uri": "https://localhost:8080/"
        },
        "id": "e8SiGCXQMUbI",
        "outputId": "f8792a70-0da2-49e6-c104-4246e34dd37d"
      },
      "execution_count": null,
      "outputs": [
        {
          "output_type": "execute_result",
          "data": {
            "text/plain": [
              "array([[0, 1, 2],\n",
              "       [3, 4, 5],\n",
              "       [6, 7, 8]])"
            ]
          },
          "metadata": {},
          "execution_count": 21
        }
      ]
    },
    {
      "cell_type": "markdown",
      "source": [
        "#### EX - 8"
      ],
      "metadata": {
        "id": "vGwqkWy-U4EW"
      }
    },
    {
      "cell_type": "code",
      "source": [
        "np.eye(3)"
      ],
      "metadata": {
        "colab": {
          "base_uri": "https://localhost:8080/"
        },
        "id": "f6DmRXHIU0eI",
        "outputId": "f7777d39-4844-4b8d-c2a1-ec9b71c20e87"
      },
      "execution_count": null,
      "outputs": [
        {
          "output_type": "execute_result",
          "data": {
            "text/plain": [
              "array([[1., 0., 0.],\n",
              "       [0., 1., 0.],\n",
              "       [0., 0., 1.]])"
            ]
          },
          "metadata": {},
          "execution_count": 22
        }
      ]
    },
    {
      "cell_type": "markdown",
      "source": [
        "#### EX - 9"
      ],
      "metadata": {
        "id": "telOUwTnWyQf"
      }
    },
    {
      "cell_type": "code",
      "source": [
        "np.random.rand()"
      ],
      "metadata": {
        "id": "r0rkWA4tW2DK",
        "colab": {
          "base_uri": "https://localhost:8080/"
        },
        "outputId": "1fb7aabe-4e39-45db-c088-dcd053e8e66e"
      },
      "execution_count": 13,
      "outputs": [
        {
          "output_type": "execute_result",
          "data": {
            "text/plain": [
              "0.7334064249395488"
            ]
          },
          "metadata": {},
          "execution_count": 13
        }
      ]
    },
    {
      "cell_type": "markdown",
      "source": [
        "#### EX - 10"
      ],
      "metadata": {
        "id": "upbYyAS3oj04"
      }
    },
    {
      "cell_type": "code",
      "source": [
        "n = 100\n",
        "%timeit np.random.normal(size=n)"
      ],
      "metadata": {
        "colab": {
          "base_uri": "https://localhost:8080/"
        },
        "id": "IuxEIxksomCt",
        "outputId": "6fec3c33-d4b0-415a-96e0-e083d52c5a1f"
      },
      "execution_count": 18,
      "outputs": [
        {
          "output_type": "stream",
          "name": "stdout",
          "text": [
            "8.89 µs ± 114 ns per loop (mean ± std. dev. of 7 runs, 100000 loops each)\n"
          ]
        }
      ]
    },
    {
      "cell_type": "code",
      "source": [
        "np.random.rand(25)"
      ],
      "metadata": {
        "colab": {
          "base_uri": "https://localhost:8080/"
        },
        "id": "MM3VoqzWpkDo",
        "outputId": "fdea6ab5-f019-43db-ff23-ec2bd6409ba3"
      },
      "execution_count": 19,
      "outputs": [
        {
          "output_type": "execute_result",
          "data": {
            "text/plain": [
              "array([0.87471101, 0.23417235, 0.72999804, 0.71595224, 0.8748557 ,\n",
              "       0.8429043 , 0.42087134, 0.48326468, 0.60836692, 0.74438385,\n",
              "       0.87342543, 0.35868462, 0.64137176, 0.61575342, 0.56483416,\n",
              "       0.97838254, 0.03412562, 0.80475049, 0.41768089, 0.27701297,\n",
              "       0.23461364, 0.15561229, 0.42184388, 0.50758383, 0.4433789 ])"
            ]
          },
          "metadata": {},
          "execution_count": 19
        }
      ]
    },
    {
      "cell_type": "markdown",
      "source": [
        "#### EX - 11"
      ],
      "metadata": {
        "id": "-a1Ic0g-rwk5"
      }
    },
    {
      "cell_type": "code",
      "source": [
        "np.linspace(0.01, 1, 100).reshape(10, 10)"
      ],
      "metadata": {
        "colab": {
          "base_uri": "https://localhost:8080/"
        },
        "id": "1HHPTvG4rzBQ",
        "outputId": "9dc9279e-e8a4-4a11-bc54-1a32ab371af2"
      },
      "execution_count": 32,
      "outputs": [
        {
          "output_type": "execute_result",
          "data": {
            "text/plain": [
              "array([[0.01, 0.02, 0.03, 0.04, 0.05, 0.06, 0.07, 0.08, 0.09, 0.1 ],\n",
              "       [0.11, 0.12, 0.13, 0.14, 0.15, 0.16, 0.17, 0.18, 0.19, 0.2 ],\n",
              "       [0.21, 0.22, 0.23, 0.24, 0.25, 0.26, 0.27, 0.28, 0.29, 0.3 ],\n",
              "       [0.31, 0.32, 0.33, 0.34, 0.35, 0.36, 0.37, 0.38, 0.39, 0.4 ],\n",
              "       [0.41, 0.42, 0.43, 0.44, 0.45, 0.46, 0.47, 0.48, 0.49, 0.5 ],\n",
              "       [0.51, 0.52, 0.53, 0.54, 0.55, 0.56, 0.57, 0.58, 0.59, 0.6 ],\n",
              "       [0.61, 0.62, 0.63, 0.64, 0.65, 0.66, 0.67, 0.68, 0.69, 0.7 ],\n",
              "       [0.71, 0.72, 0.73, 0.74, 0.75, 0.76, 0.77, 0.78, 0.79, 0.8 ],\n",
              "       [0.81, 0.82, 0.83, 0.84, 0.85, 0.86, 0.87, 0.88, 0.89, 0.9 ],\n",
              "       [0.91, 0.92, 0.93, 0.94, 0.95, 0.96, 0.97, 0.98, 0.99, 1.  ]])"
            ]
          },
          "metadata": {},
          "execution_count": 32
        }
      ]
    },
    {
      "cell_type": "markdown",
      "source": [
        "#### EX - 12"
      ],
      "metadata": {
        "id": "bxTWtKwyuinr"
      }
    },
    {
      "cell_type": "code",
      "source": [
        "np.linspace(0, 1, 20)"
      ],
      "metadata": {
        "colab": {
          "base_uri": "https://localhost:8080/"
        },
        "id": "FFpknKtcuky9",
        "outputId": "3f6cdfad-3c3b-4d39-c5ea-bc939321d27b"
      },
      "execution_count": 34,
      "outputs": [
        {
          "output_type": "execute_result",
          "data": {
            "text/plain": [
              "array([0.        , 0.05263158, 0.10526316, 0.15789474, 0.21052632,\n",
              "       0.26315789, 0.31578947, 0.36842105, 0.42105263, 0.47368421,\n",
              "       0.52631579, 0.57894737, 0.63157895, 0.68421053, 0.73684211,\n",
              "       0.78947368, 0.84210526, 0.89473684, 0.94736842, 1.        ])"
            ]
          },
          "metadata": {},
          "execution_count": 34
        }
      ]
    },
    {
      "cell_type": "markdown",
      "source": [
        "#### EX - 13"
      ],
      "metadata": {
        "id": "okmAss4Vu2-l"
      }
    },
    {
      "cell_type": "code",
      "source": [
        "mat = np.arange(1,26).reshape(5,5)\n",
        "mat"
      ],
      "metadata": {
        "colab": {
          "base_uri": "https://localhost:8080/"
        },
        "id": "iT7CcO_zu7aK",
        "outputId": "1bf954fa-739b-43d7-c3c1-5d1ea28289df"
      },
      "execution_count": 36,
      "outputs": [
        {
          "output_type": "execute_result",
          "data": {
            "text/plain": [
              "array([[ 1,  2,  3,  4,  5],\n",
              "       [ 6,  7,  8,  9, 10],\n",
              "       [11, 12, 13, 14, 15],\n",
              "       [16, 17, 18, 19, 20],\n",
              "       [21, 22, 23, 24, 25]])"
            ]
          },
          "metadata": {},
          "execution_count": 36
        }
      ]
    },
    {
      "cell_type": "code",
      "source": [
        "arr = mat"
      ],
      "metadata": {
        "id": "wzSXD11EwF3Y"
      },
      "execution_count": 71,
      "outputs": []
    },
    {
      "cell_type": "code",
      "source": [
        "arr2 = arr[-3:,1:]\n",
        "arr2"
      ],
      "metadata": {
        "colab": {
          "base_uri": "https://localhost:8080/"
        },
        "id": "kWHGLhtP47Ty",
        "outputId": "dc76ae1c-56a7-43af-af8c-6ad47b40d0b0"
      },
      "execution_count": 82,
      "outputs": [
        {
          "output_type": "execute_result",
          "data": {
            "text/plain": [
              "array([[12, 13, 14, 15],\n",
              "       [17, 18, 19, 20],\n",
              "       [22, 23, 24, 25]])"
            ]
          },
          "metadata": {},
          "execution_count": 82
        }
      ]
    },
    {
      "cell_type": "markdown",
      "source": [
        "#### EX - 14"
      ],
      "metadata": {
        "id": "1HePXcEe6AeR"
      }
    },
    {
      "cell_type": "code",
      "source": [
        "arr[3,4]"
      ],
      "metadata": {
        "colab": {
          "base_uri": "https://localhost:8080/"
        },
        "id": "SAhvA3Ls6Cv_",
        "outputId": "34b95915-b546-40b7-d869-113910b76c24"
      },
      "execution_count": 80,
      "outputs": [
        {
          "output_type": "execute_result",
          "data": {
            "text/plain": [
              "20"
            ]
          },
          "metadata": {},
          "execution_count": 80
        }
      ]
    },
    {
      "cell_type": "markdown",
      "source": [
        "#### EX - 15"
      ],
      "metadata": {
        "id": "MPlHogfW6hNa"
      }
    },
    {
      "cell_type": "code",
      "source": [
        "arr[:,1:2]"
      ],
      "metadata": {
        "colab": {
          "base_uri": "https://localhost:8080/"
        },
        "id": "nEZ2TtGt6kW8",
        "outputId": "b08d5fab-c5e5-4253-a323-ba88a7571453"
      },
      "execution_count": 122,
      "outputs": [
        {
          "output_type": "execute_result",
          "data": {
            "text/plain": [
              "array([[ 2],\n",
              "       [ 7],\n",
              "       [12],\n",
              "       [17],\n",
              "       [22]])"
            ]
          },
          "metadata": {},
          "execution_count": 122
        }
      ]
    },
    {
      "cell_type": "markdown",
      "source": [
        "#### EX - 16"
      ],
      "metadata": {
        "id": "_vVf4O2U9fgv"
      }
    },
    {
      "cell_type": "code",
      "source": [
        "arr[-1:]"
      ],
      "metadata": {
        "colab": {
          "base_uri": "https://localhost:8080/"
        },
        "id": "0jHG4HoJ9hbn",
        "outputId": "a0d05470-550a-42a9-ea90-0b90df2eb632"
      },
      "execution_count": 127,
      "outputs": [
        {
          "output_type": "execute_result",
          "data": {
            "text/plain": [
              "array([[21, 22, 23, 24, 25]])"
            ]
          },
          "metadata": {},
          "execution_count": 127
        }
      ]
    },
    {
      "cell_type": "markdown",
      "source": [
        "#### EX - 17"
      ],
      "metadata": {
        "id": "RrKD6v2s9ws2"
      }
    },
    {
      "cell_type": "code",
      "source": [
        "arr[-2:]"
      ],
      "metadata": {
        "colab": {
          "base_uri": "https://localhost:8080/"
        },
        "id": "TD_EvdBx9ymz",
        "outputId": "2d183556-62ec-4f8c-9f08-cb7742e2e7a9"
      },
      "execution_count": 128,
      "outputs": [
        {
          "output_type": "execute_result",
          "data": {
            "text/plain": [
              "array([[16, 17, 18, 19, 20],\n",
              "       [21, 22, 23, 24, 25]])"
            ]
          },
          "metadata": {},
          "execution_count": 128
        }
      ]
    },
    {
      "cell_type": "markdown",
      "source": [
        "#### EX - 18"
      ],
      "metadata": {
        "id": "S2-t-h1L95jM"
      }
    },
    {
      "cell_type": "code",
      "source": [
        "arr.sum()"
      ],
      "metadata": {
        "colab": {
          "base_uri": "https://localhost:8080/"
        },
        "id": "8PEBGzDT97n9",
        "outputId": "7ca6b595-5a27-478d-ff1e-2e77b04a140b"
      },
      "execution_count": 130,
      "outputs": [
        {
          "output_type": "execute_result",
          "data": {
            "text/plain": [
              "325"
            ]
          },
          "metadata": {},
          "execution_count": 130
        }
      ]
    },
    {
      "cell_type": "markdown",
      "source": [
        "#### EX - 19"
      ],
      "metadata": {
        "id": "bERu2uUD-Kta"
      }
    },
    {
      "cell_type": "code",
      "source": [
        "arr.std()\n"
      ],
      "metadata": {
        "colab": {
          "base_uri": "https://localhost:8080/"
        },
        "id": "NlQ7kNyG-NXt",
        "outputId": "2633a59a-fd8e-4ed8-eb61-1ab606c6ccda"
      },
      "execution_count": 131,
      "outputs": [
        {
          "output_type": "execute_result",
          "data": {
            "text/plain": [
              "7.211102550927978"
            ]
          },
          "metadata": {},
          "execution_count": 131
        }
      ]
    },
    {
      "cell_type": "markdown",
      "source": [
        "#### EX - 20"
      ],
      "metadata": {
        "id": "DUWsSP0QQkx4"
      }
    },
    {
      "cell_type": "code",
      "source": [
        "arr.sum(axis=0)"
      ],
      "metadata": {
        "colab": {
          "base_uri": "https://localhost:8080/"
        },
        "id": "Mu7QlJi9Qnas",
        "outputId": "5b0b1355-28e1-4846-878c-e31340d8b40b"
      },
      "execution_count": 134,
      "outputs": [
        {
          "output_type": "execute_result",
          "data": {
            "text/plain": [
              "array([55, 60, 65, 70, 75])"
            ]
          },
          "metadata": {},
          "execution_count": 134
        }
      ]
    }
  ]
}