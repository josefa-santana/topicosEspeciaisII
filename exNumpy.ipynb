{
  "nbformat": 4,
  "nbformat_minor": 0,
  "metadata": {
    "colab": {
      "name": "exNumpy.ipynb",
      "provenance": [],
      "authorship_tag": "ABX9TyM6bjH0/wkT8lyW+GZAKF5t",
      "include_colab_link": true
    },
    "kernelspec": {
      "name": "python3",
      "display_name": "Python 3"
    },
    "language_info": {
      "name": "python"
    }
  },
  "cells": [
    {
      "cell_type": "markdown",
      "metadata": {
        "id": "view-in-github",
        "colab_type": "text"
      },
      "source": [
        "<a href=\"https://colab.research.google.com/github/josefa-santana/topicosEspeciaisII/blob/main/exNumpy.ipynb\" target=\"_parent\"><img src=\"https://colab.research.google.com/assets/colab-badge.svg\" alt=\"Open In Colab\"/></a>"
      ]
    },
    {
      "cell_type": "markdown",
      "source": [
        "#### EX - 1"
      ],
      "metadata": {
        "id": "_k0AZw3BMZl9"
      }
    },
    {
      "cell_type": "code",
      "execution_count": 1,
      "metadata": {
        "id": "Owv2kEj3FdDS"
      },
      "outputs": [],
      "source": [
        "import numpy as np"
      ]
    },
    {
      "cell_type": "markdown",
      "source": [
        "#### EX - 2"
      ],
      "metadata": {
        "id": "-grIDQCNMkle"
      }
    },
    {
      "cell_type": "code",
      "source": [
        "np.ones((10))"
      ],
      "metadata": {
        "colab": {
          "base_uri": "https://localhost:8080/"
        },
        "id": "QA9hSPulGKt3",
        "outputId": "3f7b1573-daf7-4f4a-ad3f-ddd433eefe11"
      },
      "execution_count": 10,
      "outputs": [
        {
          "output_type": "execute_result",
          "data": {
            "text/plain": [
              "array([1., 1., 1., 1., 1., 1., 1., 1., 1., 1.])"
            ]
          },
          "metadata": {},
          "execution_count": 10
        }
      ]
    },
    {
      "cell_type": "markdown",
      "source": [
        "#### EX - 3"
      ],
      "metadata": {
        "id": "lADzhS33MrkM"
      }
    },
    {
      "cell_type": "code",
      "source": [
        "np.zeros((10))"
      ],
      "metadata": {
        "colab": {
          "base_uri": "https://localhost:8080/"
        },
        "id": "cgpqYORSIq4E",
        "outputId": "34caf773-f5d8-4ee5-d11d-32efab1cfbf4"
      },
      "execution_count": 11,
      "outputs": [
        {
          "output_type": "execute_result",
          "data": {
            "text/plain": [
              "array([0., 0., 0., 0., 0., 0., 0., 0., 0., 0.])"
            ]
          },
          "metadata": {},
          "execution_count": 11
        }
      ]
    },
    {
      "cell_type": "markdown",
      "source": [
        "#### EX - 4"
      ],
      "metadata": {
        "id": "p-96j1qPMvH5"
      }
    },
    {
      "cell_type": "code",
      "source": [
        "np.full(10, 5)"
      ],
      "metadata": {
        "colab": {
          "base_uri": "https://localhost:8080/"
        },
        "id": "CLSrkRqHJAXq",
        "outputId": "c5c300a8-7c05-457c-a49b-49b322b4b501"
      },
      "execution_count": 12,
      "outputs": [
        {
          "output_type": "execute_result",
          "data": {
            "text/plain": [
              "array([5, 5, 5, 5, 5, 5, 5, 5, 5, 5])"
            ]
          },
          "metadata": {},
          "execution_count": 12
        }
      ]
    },
    {
      "cell_type": "markdown",
      "source": [
        "#### EX - 5"
      ],
      "metadata": {
        "id": "dapUxdpIMyW2"
      }
    },
    {
      "cell_type": "code",
      "source": [
        "np.arange(10, 51)"
      ],
      "metadata": {
        "colab": {
          "base_uri": "https://localhost:8080/"
        },
        "id": "OA1LaRzWLMwx",
        "outputId": "5dd6966b-55ef-4293-9952-4c271342ebb6"
      },
      "execution_count": 14,
      "outputs": [
        {
          "output_type": "execute_result",
          "data": {
            "text/plain": [
              "array([10, 11, 12, 13, 14, 15, 16, 17, 18, 19, 20, 21, 22, 23, 24, 25, 26,\n",
              "       27, 28, 29, 30, 31, 32, 33, 34, 35, 36, 37, 38, 39, 40, 41, 42, 43,\n",
              "       44, 45, 46, 47, 48, 49, 50])"
            ]
          },
          "metadata": {},
          "execution_count": 14
        }
      ]
    },
    {
      "cell_type": "markdown",
      "source": [
        "#### EX - 6"
      ],
      "metadata": {
        "id": "UKYn4ouzM0NH"
      }
    },
    {
      "cell_type": "code",
      "source": [
        "np.arange(10, 52, +2)"
      ],
      "metadata": {
        "colab": {
          "base_uri": "https://localhost:8080/"
        },
        "id": "vVDW7wmdLhHn",
        "outputId": "d3b3fa3b-ea8b-4603-f6fc-53fe580312ba"
      },
      "execution_count": 19,
      "outputs": [
        {
          "output_type": "execute_result",
          "data": {
            "text/plain": [
              "array([10, 12, 14, 16, 18, 20, 22, 24, 26, 28, 30, 32, 34, 36, 38, 40, 42,\n",
              "       44, 46, 48, 50])"
            ]
          },
          "metadata": {},
          "execution_count": 19
        }
      ]
    },
    {
      "cell_type": "markdown",
      "source": [
        "#### EX - 7"
      ],
      "metadata": {
        "id": "01NjUlkMNDgX"
      }
    },
    {
      "cell_type": "code",
      "source": [
        "np.arange(9).reshape(3,3)"
      ],
      "metadata": {
        "colab": {
          "base_uri": "https://localhost:8080/"
        },
        "id": "e8SiGCXQMUbI",
        "outputId": "f8792a70-0da2-49e6-c104-4246e34dd37d"
      },
      "execution_count": 21,
      "outputs": [
        {
          "output_type": "execute_result",
          "data": {
            "text/plain": [
              "array([[0, 1, 2],\n",
              "       [3, 4, 5],\n",
              "       [6, 7, 8]])"
            ]
          },
          "metadata": {},
          "execution_count": 21
        }
      ]
    },
    {
      "cell_type": "markdown",
      "source": [
        "#### EX - 8"
      ],
      "metadata": {
        "id": "vGwqkWy-U4EW"
      }
    },
    {
      "cell_type": "code",
      "source": [
        "np.eye(3)"
      ],
      "metadata": {
        "colab": {
          "base_uri": "https://localhost:8080/"
        },
        "id": "f6DmRXHIU0eI",
        "outputId": "f7777d39-4844-4b8d-c2a1-ec9b71c20e87"
      },
      "execution_count": 22,
      "outputs": [
        {
          "output_type": "execute_result",
          "data": {
            "text/plain": [
              "array([[1., 0., 0.],\n",
              "       [0., 1., 0.],\n",
              "       [0., 0., 1.]])"
            ]
          },
          "metadata": {},
          "execution_count": 22
        }
      ]
    },
    {
      "cell_type": "markdown",
      "source": [
        "#### EX - 9"
      ],
      "metadata": {
        "id": "telOUwTnWyQf"
      }
    },
    {
      "cell_type": "code",
      "source": [],
      "metadata": {
        "id": "r0rkWA4tW2DK"
      },
      "execution_count": null,
      "outputs": []
    }
  ]
}